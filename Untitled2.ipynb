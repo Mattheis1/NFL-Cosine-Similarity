{
 "cells": [
  {
   "cell_type": "code",
   "execution_count": 21,
   "id": "433be87c",
   "metadata": {},
   "outputs": [],
   "source": [
    "import numpy as np\n",
    "import pandas as pd\n",
    "import sklearn"
   ]
  },
  {
   "cell_type": "code",
   "execution_count": 55,
   "id": "e4edf1cb",
   "metadata": {},
   "outputs": [
    {
     "name": "stdout",
     "output_type": "stream",
     "text": [
      "Defaulting to user installation because normal site-packages is not writeable\n",
      "Requirement already satisfied: sklearn in ./.local/lib/python3.9/site-packages (0.0)\n",
      "Requirement already satisfied: scikit-learn in ./.local/lib/python3.9/site-packages (from sklearn) (1.3.2)\n",
      "Requirement already satisfied: scipy>=1.5.0 in ./.local/lib/python3.9/site-packages (from scikit-learn->sklearn) (1.11.3)\n",
      "Requirement already satisfied: numpy<2.0,>=1.17.3 in /opt/tljh/user/lib/python3.9/site-packages (from scikit-learn->sklearn) (1.24.3)\n",
      "Requirement already satisfied: threadpoolctl>=2.0.0 in ./.local/lib/python3.9/site-packages (from scikit-learn->sklearn) (3.2.0)\n",
      "Requirement already satisfied: joblib>=1.1.1 in ./.local/lib/python3.9/site-packages (from scikit-learn->sklearn) (1.3.2)\n",
      "Note: you may need to restart the kernel to use updated packages.\n"
     ]
    }
   ],
   "source": [
    "%pip install sklearn"
   ]
  },
  {
   "cell_type": "code",
   "execution_count": null,
   "id": "a2b835ac",
   "metadata": {},
   "outputs": [],
   "source": []
  },
  {
   "cell_type": "code",
   "execution_count": 15,
   "id": "69aaa1d2",
   "metadata": {},
   "outputs": [],
   "source": [
    "pd.set_option('display.max_columns',None)"
   ]
  },
  {
   "cell_type": "code",
   "execution_count": 16,
   "id": "63de143a",
   "metadata": {},
   "outputs": [],
   "source": [
    "bing = '2022_Data_Upload.xlsx'\n",
    "dato = pd.read_excel(bing)\n",
    "df = pd.DataFrame(dato)"
   ]
  },
  {
   "cell_type": "code",
   "execution_count": 43,
   "id": "c6870e13",
   "metadata": {},
   "outputs": [
    {
     "name": "stdout",
     "output_type": "stream",
     "text": [
      "     Rank                 Name Team Position  Age  Games Played   \n",
      "0       1      Patrick Mahomes  KAN       QB   27            17  \\\n",
      "1       2          Josh Jacobs  LVR       RB   24            17   \n",
      "2       3  Christian McCaffrey  SFO       RB   26            17   \n",
      "3       4        Derrick Henry  TEN       RB   28            16   \n",
      "4       5     Justin Jefferson  MIN       WR   23            17   \n",
      "..    ...                  ...  ...      ...  ...           ...   \n",
      "494   495         Ryan Griffin  CHI       TE   32            15   \n",
      "495   496            Tim Jones  JAX       WR   24            17   \n",
      "496   497       Larry Rountree  LAC       RB   23             4   \n",
      "497   498            DJ Turner  LVR       WR   25             9   \n",
      "498   499        Tylan Wallace  BAL       WR   23             9   \n",
      "\n",
      "     Games Started  Pass_Cmp  Pass_Att  Pass_Yds  Pass_TD  Int  Att  Rush_Yds   \n",
      "0               17       435       648      5250       41   12   61       358  \\\n",
      "1               17         0         0         0        0    0  340      1653   \n",
      "2               16         1         1        34        1    0  244      1139   \n",
      "3               16         2         2         4        1    0  349      1538   \n",
      "4               17         2         2        34        0    0    4        24   \n",
      "..             ...       ...       ...       ...      ...  ...  ...       ...   \n",
      "494              0         0         0         0        0    0    0         0   \n",
      "495              1         0         0         0        0    0    0         0   \n",
      "496              0         0         0         0        0    0   13        19   \n",
      "497              0         0         0         0        0    0    4        26   \n",
      "498              0         0         0         0        0    0    0         0   \n",
      "\n",
      "     Rush_Y/A  Rush_TD  Pass_Tgt  Rec_Rec  Rec_Yds  Rec_Y/R  Rec_TD  Fmb  FL   \n",
      "0        5.87        4         1        1        6     6.00       0    5   0  \\\n",
      "1        4.86       12        64       53      400     7.55       0    3   1   \n",
      "2        4.67        8       108       85      741     8.72       5    1   0   \n",
      "3        4.41       13        41       33      398    12.06       0    6   3   \n",
      "4        6.00        1       184      128     1809    14.13       8    0   0   \n",
      "..        ...      ...       ...      ...      ...      ...     ...  ...  ..   \n",
      "494      0.00        0         8        4       26     6.50       0    0   0   \n",
      "495      0.00        0         4        3       30    10.00       0    0   0   \n",
      "496      1.46        0         2        2       14     7.00       0    0   0   \n",
      "497      6.50        0         1        0        0     0.00       0    1   0   \n",
      "498      0.00        0         7        4       33     8.25       0    0   0   \n",
      "\n",
      "     TD  2P Made  2P Passes  Fantasy Points    PPR  Draft King Points  PosRank  \n",
      "0     4      1.0        2.0           416.0  417.4              435.4        1  \n",
      "1    12      0.0        0.0           275.0  328.3              335.3        1  \n",
      "2    13      0.0        0.0           271.0  356.4              362.4        2  \n",
      "3    13      0.0        0.0           270.0  302.8              311.8        3  \n",
      "4     9      1.0        0.0           241.0  368.7              371.7        1  \n",
      "..   ..      ...        ...             ...    ...                ...      ...  \n",
      "494   0      0.0        0.0             3.0    6.6                6.6      101  \n",
      "495   0      0.0        0.0             3.0    6.0                6.0      181  \n",
      "496   0      0.0        0.0             3.0    5.3                5.3      138  \n",
      "497   0      0.0        0.0             3.0    2.6                2.6      184  \n",
      "498   0      0.0        0.0             3.0    7.3                7.3      180  \n",
      "\n",
      "[499 rows x 30 columns]\n"
     ]
    }
   ],
   "source": [
    "print(df)"
   ]
  },
  {
   "cell_type": "code",
   "execution_count": null,
   "id": "3ce931d4",
   "metadata": {},
   "outputs": [],
   "source": [
    "\n"
   ]
  },
  {
   "cell_type": "code",
   "execution_count": null,
   "id": "e6a204ec",
   "metadata": {},
   "outputs": [],
   "source": []
  },
  {
   "cell_type": "code",
   "execution_count": null,
   "id": "9181ca26",
   "metadata": {
    "scrolled": true
   },
   "outputs": [],
   "source": [
    "\n"
   ]
  },
  {
   "cell_type": "code",
   "execution_count": null,
   "id": "e34f6dc9",
   "metadata": {},
   "outputs": [],
   "source": []
  },
  {
   "cell_type": "code",
   "execution_count": null,
   "id": "68f0822a",
   "metadata": {},
   "outputs": [],
   "source": []
  },
  {
   "cell_type": "code",
   "execution_count": 62,
   "id": "0e326513",
   "metadata": {},
   "outputs": [
    {
     "name": "stdout",
     "output_type": "stream",
     "text": [
      "Top 10 players under 25 most similar to Christian McCaffrey:\n",
      "[\"D'Andre Swift\", 'Najee Harris', 'Antonio Gibson', 'Josh Jacobs', 'Rhamondre Stevenson', 'AJ Dillon', 'Kenneth Walker III', 'Travis Etienne', 'Dameon Pierce', 'Cam Akers']\n",
      "Top 10 players under 25 most similar to Patrick Mahomes:\n",
      "['Tua Tagovailoa', 'Justin Herbert', 'Trevor Lawrence', 'Mac Jones', 'Davis Mills', 'Kenny Pickett', 'Jalen Hurts', 'Zach Wilson', 'Brock Purdy', 'Justin Fields']\n",
      "Top 10 players under 25 most similar to Justin Jefferson:\n",
      "['Justin Jefferson', 'CeeDee Lamb', 'Amon-Ra St. Brown', 'DeVonta Smith', \"Ja'Marr Chase\", 'Jaylen Waddle', 'Tee Higgins', 'Josh Palmer', 'Brandon Aiyuk', 'Jerry Jeudy']\n"
     ]
    }
   ],
   "source": [
    "import pandas as pd\n",
    "from sklearn.metrics.pairwise import cosine_similarity\n",
    "from sklearn.preprocessing import StandardScaler\n",
    "from sklearn.impute import SimpleImputer\n",
    "\n",
    "# Load your NFL player data into the DataFrame\n",
    "# Make sure to load your actual dataset instead of this example\n",
    "# df = pd.read_csv('your_dataset.csv')\n",
    "\n",
    "# Select the relevant columns for cosine similarity calculation\n",
    "selected_columns = ['Age', 'Pass_Cmp', 'Pass_Att', 'Pass_Yds', 'Pass_TD', 'Int', 'Rush_Yds', 'Rush_Y/A', 'Rush_TD', 'Pass_Tgt', 'Rec_Rec', 'Rec_Y/R', 'Rec_TD', 'Fmb', 'TD']\n",
    "\n",
    "# Handle missing values by imputing with the mean\n",
    "imputer = SimpleImputer(strategy='mean')\n",
    "player_data = df[selected_columns]\n",
    "player_data = imputer.fit_transform(player_data)\n",
    "\n",
    "# Standardize the data (important for cosine similarity)\n",
    "scaler = StandardScaler()\n",
    "scaled_player_data = scaler.fit_transform(player_data)\n",
    "\n",
    "# Compute cosine similarity between all players\n",
    "cosine_sim = cosine_similarity(scaled_player_data)\n",
    "\n",
    "# Get the index of players with specific names\n",
    "player_names = df['Name']\n",
    "name_indices = {\n",
    "    'Christian McCaffrey': player_names[player_names == 'Christian McCaffrey'].index[0],\n",
    "    'Patrick Mahomes': player_names[player_names == 'Patrick Mahomes'].index[0],\n",
    "    'Justin Jefferson': player_names[player_names == 'Justin Jefferson'].index[0]\n",
    "}\n",
    "\n",
    "# Calculate the top 10 most similar players for each target player\n",
    "similar_players = {}\n",
    "for name, index in name_indices.items():\n",
    "    cosine_scores = list(enumerate(cosine_sim[index]))\n",
    "    cosine_scores = sorted(cosine_scores, key=lambda x: x[1], reverse=True)\n",
    "\n",
    "    # Filter the results to include only players under 25\n",
    "    players_under_25 = df[df['Age'] < 25]\n",
    "    top_10_scores = [score for score in cosine_scores if player_names[score[0]] in players_under_25['Name'].values][:10]\n",
    "    \n",
    "    top_10_indices = [i[0] for i in top_10_scores]\n",
    "    top_10_player_names = player_names.iloc[top_10_indices].values.tolist()\n",
    "    similar_players[name] = top_10_player_names\n",
    "\n",
    "# Print the results\n",
    "for name, similar in similar_players.items():\n",
    "    print(f\"Top 10 players under 25 most similar to {name}:\")\n",
    "    print(similar)\n",
    "\n"
   ]
  },
  {
   "cell_type": "code",
   "execution_count": null,
   "id": "0ff02743",
   "metadata": {},
   "outputs": [],
   "source": []
  },
  {
   "cell_type": "code",
   "execution_count": null,
   "id": "44aff6a6",
   "metadata": {},
   "outputs": [],
   "source": []
  }
 ],
 "metadata": {
  "kernelspec": {
   "display_name": "Python 3 (ipykernel)",
   "language": "python",
   "name": "python3"
  },
  "language_info": {
   "codemirror_mode": {
    "name": "ipython",
    "version": 3
   },
   "file_extension": ".py",
   "mimetype": "text/x-python",
   "name": "python",
   "nbconvert_exporter": "python",
   "pygments_lexer": "ipython3",
   "version": "3.9.16"
  }
 },
 "nbformat": 4,
 "nbformat_minor": 5
}
